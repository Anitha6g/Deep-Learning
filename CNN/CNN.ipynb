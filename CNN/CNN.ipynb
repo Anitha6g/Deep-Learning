{
  "nbformat": 4,
  "nbformat_minor": 0,
  "metadata": {
    "colab": {
      "name": "Deep_Learning_Assignment2.ipynb",
      "provenance": [],
      "collapsed_sections": [],
      "machine_shape": "hm"
    },
    "kernelspec": {
      "name": "python3",
      "display_name": "Python 3"
    },
    "accelerator": "GPU"
  },
  "cells": [
    {
      "cell_type": "code",
      "metadata": {
        "id": "NHsaqToB0GnV",
        "colab_type": "code",
        "outputId": "4c422fa1-c0f4-45f9-d02b-726734fd6a62",
        "colab": {
          "base_uri": "https://localhost:8080/",
          "height": 118
        }
      },
      "source": [
        "#Importing Libraries\n",
        "%tensorflow_version 2.x\n",
        "import pandas as pd\n",
        "import numpy as np\n",
        "import re\n",
        "import nltk\n",
        "from nltk.corpus import stopwords\n",
        "from nltk.stem import WordNetLemmatizer\n",
        "from nltk.stem.porter import PorterStemmer\n",
        "nltk.download('wordnet')\n",
        "nltk.download('stopwords')\n",
        "from sklearn.feature_extraction.text import CountVectorizer\n",
        "from sklearn.model_selection import train_test_split\n",
        "import tensorflow as tf\n",
        "from tensorflow.keras import layers\n",
        "from sklearn.linear_model import LogisticRegression\n",
        "from nltk.corpus import stopwords\n",
        "nltk.download('stopwords')\n",
        "from sklearn.feature_extraction.text import TfidfVectorizer\n"
      ],
      "execution_count": 16,
      "outputs": [
        {
          "output_type": "stream",
          "text": [
            "[nltk_data] Downloading package wordnet to /root/nltk_data...\n",
            "[nltk_data]   Package wordnet is already up-to-date!\n",
            "[nltk_data] Downloading package stopwords to /root/nltk_data...\n",
            "[nltk_data]   Package stopwords is already up-to-date!\n",
            "[nltk_data] Downloading package stopwords to /root/nltk_data...\n",
            "[nltk_data]   Package stopwords is already up-to-date!\n"
          ],
          "name": "stdout"
        }
      ]
    },
    {
      "cell_type": "code",
      "metadata": {
        "id": "Q-lRCJSc3Ye1",
        "colab_type": "code",
        "colab": {}
      },
      "source": [
        "#Loading the input files with movie review data\n",
        "movie_reviews = []\n",
        "\n",
        "for line in open('full_train.txt', 'r'):\n",
        "  movie_reviews.append(line.strip())"
      ],
      "execution_count": 0,
      "outputs": []
    },
    {
      "cell_type": "code",
      "metadata": {
        "id": "rzpwVUb34Jto",
        "colab_type": "code",
        "colab": {}
      },
      "source": [
        "#Preprocessing the data\n",
        "SPECIAL_CHARACTERS = re.compile(\"[.;:!\\'?,\\\"()\\[\\]]\")\n",
        "HTML_CHARACTERS = re.compile(\"(<br\\s*/><br\\s*/>)|(\\-)|(\\/)\")"
      ],
      "execution_count": 0,
      "outputs": []
    },
    {
      "cell_type": "code",
      "metadata": {
        "id": "YOIlbX-44oBE",
        "colab_type": "code",
        "colab": {}
      },
      "source": [
        "#Function to remove special and HTML characters\n",
        "def preprocess_data(reviews):\n",
        "  reviews = [SPECIAL_CHARACTERS.sub(\"\", line.lower()) for line in reviews]\n",
        "  reviews = [HTML_CHARACTERS.sub(\" \", line) for line in reviews]\n",
        "  return reviews"
      ],
      "execution_count": 0,
      "outputs": []
    },
    {
      "cell_type": "code",
      "metadata": {
        "id": "0qgsWMNp44zs",
        "colab_type": "code",
        "colab": {}
      },
      "source": [
        "#Preprocessing the data\n",
        "processed_movie_reviews = preprocess_data(movie_reviews)"
      ],
      "execution_count": 0,
      "outputs": []
    },
    {
      "cell_type": "code",
      "metadata": {
        "id": "GAb6jJD_P69N",
        "colab_type": "code",
        "colab": {}
      },
      "source": [
        "#Normalization\n",
        "\n",
        "#Stemming\n",
        "def get_stemmed_text(corpus):\n",
        "  stemmer = PorterStemmer()\n",
        "  return [' '.join([stemmer.stem(word) for word in review.split()]) for review in corpus]\n",
        "\n",
        "#Lemmatization\n",
        "def get_lemmatized_text(corpus):\n",
        "  lemmatizer = WordNetLemmatizer()\n",
        "  return [' '.join([lemmatizer.lemmatize(word) for word in review.split()]) for review in corpus]\n"
      ],
      "execution_count": 0,
      "outputs": []
    },
    {
      "cell_type": "code",
      "metadata": {
        "id": "JJdtuLmhSaAL",
        "colab_type": "code",
        "colab": {}
      },
      "source": [
        "#Stemming and Lemmatization of the data\n",
        "#movie_reviews = get_stemmed_text(processed_movie_reviews)\n",
        "movie_reviews = get_lemmatized_text(processed_movie_reviews)"
      ],
      "execution_count": 0,
      "outputs": []
    },
    {
      "cell_type": "code",
      "metadata": {
        "id": "_9bi2Q1ul6Dm",
        "colab_type": "code",
        "colab": {}
      },
      "source": [
        "X = movie_reviews"
      ],
      "execution_count": 0,
      "outputs": []
    },
    {
      "cell_type": "code",
      "metadata": {
        "id": "CGMJHSfjmi28",
        "colab_type": "code",
        "colab": {}
      },
      "source": [
        "#Data is merged to a single file with both positive and negative reviews where first 12500 is Positive and the rest 12500 Negative\n",
        "y = [1 if i < 12500 else 0 for i in range(25000)]"
      ],
      "execution_count": 0,
      "outputs": []
    },
    {
      "cell_type": "code",
      "metadata": {
        "id": "a9gMWczsMfCa",
        "colab_type": "code",
        "colab": {}
      },
      "source": [
        "#Splitting the data into train and test with 80% train and 20% as test data\n",
        "X_train, X_test, y_train, y_test = train_test_split(X, y, random_state = 42, test_size = 0.2)"
      ],
      "execution_count": 0,
      "outputs": []
    },
    {
      "cell_type": "code",
      "metadata": {
        "id": "h3_AzTtSPpyP",
        "colab_type": "code",
        "colab": {}
      },
      "source": [
        "#Vectorizing the string feature using tf - idf vectorizer\n",
        "vectorizer = TfidfVectorizer(stop_words = stopwords.words('english'))\n",
        "X = X_train + X_test\n",
        "vectorizer.fit(X)\n",
        "X_train = vectorizer.transform(X_train)\n",
        "X_test = vectorizer.transform(X_test)"
      ],
      "execution_count": 0,
      "outputs": []
    },
    {
      "cell_type": "code",
      "metadata": {
        "id": "gS9TjsTlPFBs",
        "colab_type": "code",
        "outputId": "16b0db00-c3ad-4679-ae73-1ce565edff3a",
        "colab": {
          "base_uri": "https://localhost:8080/",
          "height": 34
        }
      },
      "source": [
        "#Naive approach - Logistic Regression\n",
        "lr = LogisticRegression()\n",
        "lr.fit(X_train, y_train)\n",
        "predictions = lr.predict(X_test)\n",
        "lr.score(X_test, y_test)"
      ],
      "execution_count": 18,
      "outputs": [
        {
          "output_type": "execute_result",
          "data": {
            "text/plain": [
              "0.8886"
            ]
          },
          "metadata": {
            "tags": []
          },
          "execution_count": 18
        }
      ]
    },
    {
      "cell_type": "code",
      "metadata": {
        "id": "hdAH314tTfst",
        "colab_type": "code",
        "outputId": "d6898fc4-76d9-4cd8-8e6f-6774dafe1efb",
        "colab": {
          "base_uri": "https://localhost:8080/",
          "height": 185
        }
      },
      "source": [
        "from sklearn.model_selection import cross_val_score\n",
        "#100-fold cross validation\n",
        "cv_scores = cross_val_score(lr, X_train, y_train, cv=100)\n",
        "#print accuracy for each classified data\n",
        "print(cv_scores)\n",
        "print(\"cv_scores mean:{}\".format(np.mean(cv_scores)))"
      ],
      "execution_count": 19,
      "outputs": [
        {
          "output_type": "stream",
          "text": [
            "[0.86  0.885 0.85  0.895 0.9   0.89  0.895 0.9   0.89  0.91  0.88  0.87\n",
            " 0.895 0.92  0.86  0.85  0.895 0.885 0.915 0.905 0.915 0.91  0.86  0.9\n",
            " 0.885 0.875 0.88  0.84  0.89  0.895 0.875 0.865 0.88  0.885 0.875 0.885\n",
            " 0.865 0.895 0.87  0.88  0.855 0.895 0.885 0.91  0.905 0.9   0.865 0.905\n",
            " 0.905 0.87  0.91  0.875 0.88  0.86  0.875 0.865 0.875 0.885 0.875 0.87\n",
            " 0.92  0.87  0.89  0.86  0.87  0.905 0.885 0.93  0.9   0.88  0.9   0.885\n",
            " 0.885 0.9   0.93  0.88  0.9   0.9   0.905 0.865 0.84  0.875 0.88  0.895\n",
            " 0.905 0.88  0.92  0.875 0.89  0.9   0.865 0.9   0.87  0.895 0.9   0.865\n",
            " 0.925 0.9   0.92  0.88 ]\n",
            "cv_scores mean:0.8868\n"
          ],
          "name": "stdout"
        }
      ]
    },
    {
      "cell_type": "markdown",
      "metadata": {
        "id": "XhRopbEnja96",
        "colab_type": "text"
      },
      "source": [
        "Convolution Neural Network Model"
      ]
    },
    {
      "cell_type": "code",
      "metadata": {
        "id": "Hy9l5hFtjlgV",
        "colab_type": "code",
        "colab": {}
      },
      "source": [
        "#Data for Neural Network\n",
        "X_NN = movie_reviews\n",
        "y_NN = [1 if i < 12500 else 0 for i in range(25000)]"
      ],
      "execution_count": 0,
      "outputs": []
    },
    {
      "cell_type": "code",
      "metadata": {
        "id": "OUMSJDouk4M-",
        "colab_type": "code",
        "outputId": "56f7a4bf-af98-4cdf-e9af-1b9f3a2a0259",
        "colab": {
          "base_uri": "https://localhost:8080/",
          "height": 34
        }
      },
      "source": [
        "#Code to find the number of vocabularies in the dataset ignoring the case\n",
        "wordfreq = []\n",
        "for sentence in movie_reviews:\n",
        "    texts = [word.lower() for word in sentence.split()]\n",
        "    for i in texts:\n",
        "      wordfreq.append(i.lower())\n",
        "\n",
        "print(\"Number of Vocabulary in the dataset: \",len(set(wordfreq)))"
      ],
      "execution_count": 21,
      "outputs": [
        {
          "output_type": "stream",
          "text": [
            "Number of Vocabulary in the dataset:  86577\n"
          ],
          "name": "stdout"
        }
      ]
    },
    {
      "cell_type": "code",
      "metadata": {
        "id": "p8bqDYxyk8OK",
        "colab_type": "code",
        "colab": {}
      },
      "source": [
        "vocab_size = len(set(wordfreq))"
      ],
      "execution_count": 0,
      "outputs": []
    },
    {
      "cell_type": "code",
      "metadata": {
        "id": "E7PnV_0iG439",
        "colab_type": "code",
        "outputId": "a0a13379-7eb5-44ad-d981-949a0d6aaa53",
        "colab": {
          "base_uri": "https://localhost:8080/",
          "height": 34
        }
      },
      "source": [
        "length = -1\n",
        "i = 0\n",
        "avg = 0\n",
        "for text in X_NN:\n",
        "    leng = len(text.split())\n",
        "    avg+= leng\n",
        "if length < leng:\n",
        "  length = leng\n",
        "  i = i + 1\n",
        "\n",
        "print(length)"
      ],
      "execution_count": 23,
      "outputs": [
        {
          "output_type": "stream",
          "text": [
            "138\n"
          ],
          "name": "stdout"
        }
      ]
    },
    {
      "cell_type": "code",
      "metadata": {
        "id": "9SgDF5K3G-PO",
        "colab_type": "code",
        "outputId": "ea4bbf33-2b58-4fc7-e24c-de8e88b6a9a0",
        "colab": {
          "base_uri": "https://localhost:8080/",
          "height": 34
        }
      },
      "source": [
        "input_length = round(avg/len(X))\n",
        "input_length"
      ],
      "execution_count": 24,
      "outputs": [
        {
          "output_type": "execute_result",
          "data": {
            "text/plain": [
              "233"
            ]
          },
          "metadata": {
            "tags": []
          },
          "execution_count": 24
        }
      ]
    },
    {
      "cell_type": "code",
      "metadata": {
        "id": "S1tYa6U8kizw",
        "colab_type": "code",
        "colab": {}
      },
      "source": [
        "#Preprocessing the data \n",
        "from tensorflow.keras.preprocessing.text import Tokenizer\n",
        "from tensorflow.keras.preprocessing.sequence import pad_sequences\n",
        "\n",
        "tokenizer = Tokenizer(num_words=vocab_size)\n",
        "tokenizer.fit_on_texts(X_NN)\n",
        "X_NN = tokenizer.texts_to_sequences(X_NN)\n",
        "\n",
        "X_NN = pad_sequences(X_NN,padding='post',maxlen=1024)"
      ],
      "execution_count": 0,
      "outputs": []
    },
    {
      "cell_type": "code",
      "metadata": {
        "id": "34UP8e5yjoJT",
        "colab_type": "code",
        "colab": {}
      },
      "source": [
        "#Splitting the data into train and test with 80% train and 20% as test data\n",
        "X_train_NN, X_test_NN, y_train_NN, y_test_NN = train_test_split(X_NN, y_NN, random_state = 42, test_size = 0.2)"
      ],
      "execution_count": 0,
      "outputs": []
    },
    {
      "cell_type": "code",
      "metadata": {
        "id": "XnqC697fEU34",
        "colab_type": "code",
        "colab": {}
      },
      "source": [
        "y_test_NN = np.array(y_test_NN)\n",
        "y_train_NN = np.array(y_train_NN)"
      ],
      "execution_count": 0,
      "outputs": []
    },
    {
      "cell_type": "code",
      "metadata": {
        "id": "os0z23RTHBbk",
        "colab_type": "code",
        "outputId": "7e9c59ca-4c16-4e27-ce82-bcb73744e939",
        "colab": {
          "base_uri": "https://localhost:8080/",
          "height": 34
        }
      },
      "source": [
        "type(X_test_NN)"
      ],
      "execution_count": 28,
      "outputs": [
        {
          "output_type": "execute_result",
          "data": {
            "text/plain": [
              "numpy.ndarray"
            ]
          },
          "metadata": {
            "tags": []
          },
          "execution_count": 28
        }
      ]
    },
    {
      "cell_type": "code",
      "metadata": {
        "id": "COIVsFazdiiX",
        "colab_type": "code",
        "colab": {}
      },
      "source": [
        "model = tf.keras.Sequential()\n",
        " \n",
        "# we start off with an efficient embedding layer which maps\n",
        "# our vocab indices into EMBEDDING_DIM dimensions\n",
        "model.add(layers.Embedding(vocab_size, 50, input_length = input_length))\n",
        "model.add(layers.Dropout(0.2))\n",
        " \n",
        "# we add a Convolution1D, which will learn NUM_FILTERS filters\n",
        "model.add(layers.Conv1D(250,\n",
        "                 3,\n",
        "                 padding='valid',\n",
        "                 activation='relu',\n",
        "                 strides=1))\n",
        " \n",
        "# we use max pooling:\n",
        "model.add(layers.GlobalMaxPooling1D())\n",
        " \n",
        "# We add a vanilla hidden layer:\n",
        "model.add(layers.Dense(250))\n",
        "model.add(layers.Dropout(0.2))\n",
        "model.add(layers.Activation('relu'))\n",
        " \n",
        "# We project onto a single unit output layer, and squash it with a sigmoid:\n",
        "model.add(layers.Dense(1))\n",
        "model.add(layers.Activation('sigmoid'))\n"
      ],
      "execution_count": 0,
      "outputs": []
    },
    {
      "cell_type": "code",
      "metadata": {
        "id": "RpcVEpGRILq1",
        "colab_type": "code",
        "colab": {}
      },
      "source": [
        "#Compiler with loss mse and optimizer sgd\n",
        "sgd = tf.keras.optimizers.SGD(lr=0.01, decay=1e-6, momentum=0.9, nesterov=True)\n",
        "model.compile(loss='mean_squared_error',\n",
        "              optimizer=sgd,\n",
        "              metrics=['accuracy'])"
      ],
      "execution_count": 0,
      "outputs": []
    },
    {
      "cell_type": "code",
      "metadata": {
        "id": "qthd84KSdWYw",
        "colab_type": "code",
        "outputId": "23d0b245-a343-4b00-8c68-d87faca9e004",
        "colab": {
          "base_uri": "https://localhost:8080/",
          "height": 1000
        }
      },
      "source": [
        "#Model fit method\n",
        "history = model.fit(X_train_NN, y_train_NN, epochs=100,\n",
        "                    validation_data=(X_test_NN, y_test_NN), batch_size = 128)"
      ],
      "execution_count": 31,
      "outputs": [
        {
          "output_type": "stream",
          "text": [
            "Epoch 1/100\n",
            "WARNING:tensorflow:Model was constructed with shape (None, 233) for input Tensor(\"embedding_input:0\", shape=(None, 233), dtype=float32), but it was called on an input with incompatible shape (None, 1024).\n",
            "WARNING:tensorflow:Model was constructed with shape (None, 233) for input Tensor(\"embedding_input:0\", shape=(None, 233), dtype=float32), but it was called on an input with incompatible shape (None, 1024).\n",
            "157/157 [==============================] - ETA: 0s - loss: 0.2501 - accuracy: 0.4964WARNING:tensorflow:Model was constructed with shape (None, 233) for input Tensor(\"embedding_input:0\", shape=(None, 233), dtype=float32), but it was called on an input with incompatible shape (None, 1024).\n",
            "157/157 [==============================] - 5s 31ms/step - loss: 0.2501 - accuracy: 0.4964 - val_loss: 0.2500 - val_accuracy: 0.5030\n",
            "Epoch 2/100\n",
            "157/157 [==============================] - 5s 29ms/step - loss: 0.2500 - accuracy: 0.5064 - val_loss: 0.2499 - val_accuracy: 0.5040\n",
            "Epoch 3/100\n",
            "157/157 [==============================] - 5s 29ms/step - loss: 0.2498 - accuracy: 0.5092 - val_loss: 0.2497 - val_accuracy: 0.5030\n",
            "Epoch 4/100\n",
            "157/157 [==============================] - 5s 29ms/step - loss: 0.2498 - accuracy: 0.5141 - val_loss: 0.2496 - val_accuracy: 0.5322\n",
            "Epoch 5/100\n",
            "157/157 [==============================] - 5s 29ms/step - loss: 0.2497 - accuracy: 0.5191 - val_loss: 0.2495 - val_accuracy: 0.5744\n",
            "Epoch 6/100\n",
            "157/157 [==============================] - 5s 29ms/step - loss: 0.2495 - accuracy: 0.5246 - val_loss: 0.2493 - val_accuracy: 0.5030\n",
            "Epoch 7/100\n",
            "157/157 [==============================] - 5s 29ms/step - loss: 0.2494 - accuracy: 0.5263 - val_loss: 0.2491 - val_accuracy: 0.5052\n",
            "Epoch 8/100\n",
            "157/157 [==============================] - 5s 29ms/step - loss: 0.2491 - accuracy: 0.5422 - val_loss: 0.2488 - val_accuracy: 0.5250\n",
            "Epoch 9/100\n",
            "157/157 [==============================] - 5s 29ms/step - loss: 0.2488 - accuracy: 0.5473 - val_loss: 0.2483 - val_accuracy: 0.6042\n",
            "Epoch 10/100\n",
            "157/157 [==============================] - 5s 29ms/step - loss: 0.2480 - accuracy: 0.5792 - val_loss: 0.2474 - val_accuracy: 0.6330\n",
            "Epoch 11/100\n",
            "157/157 [==============================] - 5s 29ms/step - loss: 0.2465 - accuracy: 0.6137 - val_loss: 0.2448 - val_accuracy: 0.6446\n",
            "Epoch 12/100\n",
            "157/157 [==============================] - 5s 29ms/step - loss: 0.2421 - accuracy: 0.6353 - val_loss: 0.2377 - val_accuracy: 0.6474\n",
            "Epoch 13/100\n",
            "157/157 [==============================] - 5s 29ms/step - loss: 0.2323 - accuracy: 0.6305 - val_loss: 0.2279 - val_accuracy: 0.6342\n",
            "Epoch 14/100\n",
            "157/157 [==============================] - 5s 29ms/step - loss: 0.2258 - accuracy: 0.6342 - val_loss: 0.2247 - val_accuracy: 0.6270\n",
            "Epoch 15/100\n",
            "157/157 [==============================] - 5s 29ms/step - loss: 0.2234 - accuracy: 0.6421 - val_loss: 0.2232 - val_accuracy: 0.6418\n",
            "Epoch 16/100\n",
            "157/157 [==============================] - 5s 29ms/step - loss: 0.2224 - accuracy: 0.6398 - val_loss: 0.2222 - val_accuracy: 0.6454\n",
            "Epoch 17/100\n",
            "157/157 [==============================] - 5s 29ms/step - loss: 0.2211 - accuracy: 0.6440 - val_loss: 0.2210 - val_accuracy: 0.6466\n",
            "Epoch 18/100\n",
            "157/157 [==============================] - 5s 29ms/step - loss: 0.2195 - accuracy: 0.6461 - val_loss: 0.2189 - val_accuracy: 0.6428\n",
            "Epoch 19/100\n",
            "157/157 [==============================] - 5s 29ms/step - loss: 0.2176 - accuracy: 0.6514 - val_loss: 0.2173 - val_accuracy: 0.6446\n",
            "Epoch 20/100\n",
            "157/157 [==============================] - 5s 30ms/step - loss: 0.2155 - accuracy: 0.6575 - val_loss: 0.2157 - val_accuracy: 0.6464\n",
            "Epoch 21/100\n",
            "157/157 [==============================] - 5s 29ms/step - loss: 0.2137 - accuracy: 0.6605 - val_loss: 0.2130 - val_accuracy: 0.6576\n",
            "Epoch 22/100\n",
            "157/157 [==============================] - 5s 29ms/step - loss: 0.2121 - accuracy: 0.6651 - val_loss: 0.2107 - val_accuracy: 0.6620\n",
            "Epoch 23/100\n",
            "157/157 [==============================] - 5s 29ms/step - loss: 0.2091 - accuracy: 0.6697 - val_loss: 0.2080 - val_accuracy: 0.6700\n",
            "Epoch 24/100\n",
            "157/157 [==============================] - 5s 29ms/step - loss: 0.2066 - accuracy: 0.6769 - val_loss: 0.2061 - val_accuracy: 0.6746\n",
            "Epoch 25/100\n",
            "157/157 [==============================] - 5s 30ms/step - loss: 0.2037 - accuracy: 0.6813 - val_loss: 0.2013 - val_accuracy: 0.6858\n",
            "Epoch 26/100\n",
            "157/157 [==============================] - 5s 29ms/step - loss: 0.1993 - accuracy: 0.6952 - val_loss: 0.1959 - val_accuracy: 0.6960\n",
            "Epoch 27/100\n",
            "157/157 [==============================] - 5s 29ms/step - loss: 0.1937 - accuracy: 0.7064 - val_loss: 0.1908 - val_accuracy: 0.7082\n",
            "Epoch 28/100\n",
            "157/157 [==============================] - 5s 30ms/step - loss: 0.1877 - accuracy: 0.7199 - val_loss: 0.1860 - val_accuracy: 0.7202\n",
            "Epoch 29/100\n",
            "157/157 [==============================] - 5s 29ms/step - loss: 0.1811 - accuracy: 0.7320 - val_loss: 0.1781 - val_accuracy: 0.7358\n",
            "Epoch 30/100\n",
            "157/157 [==============================] - 5s 29ms/step - loss: 0.1742 - accuracy: 0.7458 - val_loss: 0.1696 - val_accuracy: 0.7548\n",
            "Epoch 31/100\n",
            "157/157 [==============================] - 5s 29ms/step - loss: 0.1647 - accuracy: 0.7599 - val_loss: 0.1617 - val_accuracy: 0.7636\n",
            "Epoch 32/100\n",
            "157/157 [==============================] - 5s 29ms/step - loss: 0.1588 - accuracy: 0.7700 - val_loss: 0.1594 - val_accuracy: 0.7652\n",
            "Epoch 33/100\n",
            "157/157 [==============================] - 5s 29ms/step - loss: 0.1556 - accuracy: 0.7752 - val_loss: 0.1544 - val_accuracy: 0.7754\n",
            "Epoch 34/100\n",
            "157/157 [==============================] - 5s 29ms/step - loss: 0.1510 - accuracy: 0.7829 - val_loss: 0.1503 - val_accuracy: 0.7818\n",
            "Epoch 35/100\n",
            "157/157 [==============================] - 5s 29ms/step - loss: 0.1477 - accuracy: 0.7907 - val_loss: 0.1450 - val_accuracy: 0.7930\n",
            "Epoch 36/100\n",
            "157/157 [==============================] - 5s 29ms/step - loss: 0.1426 - accuracy: 0.7958 - val_loss: 0.1409 - val_accuracy: 0.7956\n",
            "Epoch 37/100\n",
            "157/157 [==============================] - 5s 29ms/step - loss: 0.1396 - accuracy: 0.8025 - val_loss: 0.1375 - val_accuracy: 0.8032\n",
            "Epoch 38/100\n",
            "157/157 [==============================] - 5s 29ms/step - loss: 0.1353 - accuracy: 0.8094 - val_loss: 0.1342 - val_accuracy: 0.8038\n",
            "Epoch 39/100\n",
            "157/157 [==============================] - 5s 29ms/step - loss: 0.1329 - accuracy: 0.8127 - val_loss: 0.1313 - val_accuracy: 0.8102\n",
            "Epoch 40/100\n",
            "157/157 [==============================] - 5s 29ms/step - loss: 0.1283 - accuracy: 0.8213 - val_loss: 0.1277 - val_accuracy: 0.8154\n",
            "Epoch 41/100\n",
            "157/157 [==============================] - 5s 29ms/step - loss: 0.1228 - accuracy: 0.8302 - val_loss: 0.1230 - val_accuracy: 0.8240\n",
            "Epoch 42/100\n",
            "157/157 [==============================] - 5s 29ms/step - loss: 0.1188 - accuracy: 0.8361 - val_loss: 0.1208 - val_accuracy: 0.8248\n",
            "Epoch 43/100\n",
            "157/157 [==============================] - 5s 29ms/step - loss: 0.1157 - accuracy: 0.8417 - val_loss: 0.1173 - val_accuracy: 0.8290\n",
            "Epoch 44/100\n",
            "157/157 [==============================] - 5s 29ms/step - loss: 0.1109 - accuracy: 0.8505 - val_loss: 0.1183 - val_accuracy: 0.8336\n",
            "Epoch 45/100\n",
            "157/157 [==============================] - 5s 29ms/step - loss: 0.1082 - accuracy: 0.8524 - val_loss: 0.1117 - val_accuracy: 0.8406\n",
            "Epoch 46/100\n",
            "157/157 [==============================] - 5s 29ms/step - loss: 0.1049 - accuracy: 0.8593 - val_loss: 0.1096 - val_accuracy: 0.8430\n",
            "Epoch 47/100\n",
            "157/157 [==============================] - 5s 29ms/step - loss: 0.1026 - accuracy: 0.8615 - val_loss: 0.1144 - val_accuracy: 0.8318\n",
            "Epoch 48/100\n",
            "157/157 [==============================] - 5s 29ms/step - loss: 0.0995 - accuracy: 0.8665 - val_loss: 0.1061 - val_accuracy: 0.8466\n",
            "Epoch 49/100\n",
            "157/157 [==============================] - 5s 29ms/step - loss: 0.0968 - accuracy: 0.8717 - val_loss: 0.1043 - val_accuracy: 0.8496\n",
            "Epoch 50/100\n",
            "157/157 [==============================] - 5s 29ms/step - loss: 0.0939 - accuracy: 0.8733 - val_loss: 0.1072 - val_accuracy: 0.8420\n",
            "Epoch 51/100\n",
            "157/157 [==============================] - 5s 29ms/step - loss: 0.0917 - accuracy: 0.8802 - val_loss: 0.1017 - val_accuracy: 0.8534\n",
            "Epoch 52/100\n",
            "157/157 [==============================] - 5s 29ms/step - loss: 0.0893 - accuracy: 0.8812 - val_loss: 0.1002 - val_accuracy: 0.8542\n",
            "Epoch 53/100\n",
            "157/157 [==============================] - 5s 29ms/step - loss: 0.0876 - accuracy: 0.8851 - val_loss: 0.0989 - val_accuracy: 0.8568\n",
            "Epoch 54/100\n",
            "157/157 [==============================] - 5s 29ms/step - loss: 0.0850 - accuracy: 0.8887 - val_loss: 0.0976 - val_accuracy: 0.8606\n",
            "Epoch 55/100\n",
            "157/157 [==============================] - 5s 29ms/step - loss: 0.0829 - accuracy: 0.8901 - val_loss: 0.0972 - val_accuracy: 0.8584\n",
            "Epoch 56/100\n",
            "157/157 [==============================] - 5s 29ms/step - loss: 0.0805 - accuracy: 0.8944 - val_loss: 0.0965 - val_accuracy: 0.8590\n",
            "Epoch 57/100\n",
            "157/157 [==============================] - 5s 29ms/step - loss: 0.0783 - accuracy: 0.8982 - val_loss: 0.0941 - val_accuracy: 0.8662\n",
            "Epoch 58/100\n",
            "157/157 [==============================] - 5s 29ms/step - loss: 0.0754 - accuracy: 0.9032 - val_loss: 0.0921 - val_accuracy: 0.8646\n",
            "Epoch 59/100\n",
            "157/157 [==============================] - 5s 29ms/step - loss: 0.0737 - accuracy: 0.9041 - val_loss: 0.0913 - val_accuracy: 0.8694\n",
            "Epoch 60/100\n",
            "157/157 [==============================] - 5s 29ms/step - loss: 0.0713 - accuracy: 0.9097 - val_loss: 0.0904 - val_accuracy: 0.8704\n",
            "Epoch 61/100\n",
            "157/157 [==============================] - 5s 30ms/step - loss: 0.0703 - accuracy: 0.9107 - val_loss: 0.0897 - val_accuracy: 0.8718\n",
            "Epoch 62/100\n",
            "157/157 [==============================] - 5s 29ms/step - loss: 0.0677 - accuracy: 0.9140 - val_loss: 0.0883 - val_accuracy: 0.8750\n",
            "Epoch 63/100\n",
            "157/157 [==============================] - 5s 30ms/step - loss: 0.0656 - accuracy: 0.9178 - val_loss: 0.0893 - val_accuracy: 0.8730\n",
            "Epoch 64/100\n",
            "157/157 [==============================] - 5s 29ms/step - loss: 0.0646 - accuracy: 0.9169 - val_loss: 0.0877 - val_accuracy: 0.8758\n",
            "Epoch 65/100\n",
            "157/157 [==============================] - 5s 29ms/step - loss: 0.0624 - accuracy: 0.9240 - val_loss: 0.0869 - val_accuracy: 0.8776\n",
            "Epoch 66/100\n",
            "157/157 [==============================] - 5s 29ms/step - loss: 0.0609 - accuracy: 0.9259 - val_loss: 0.0893 - val_accuracy: 0.8754\n",
            "Epoch 67/100\n",
            "157/157 [==============================] - 5s 29ms/step - loss: 0.0593 - accuracy: 0.9280 - val_loss: 0.0861 - val_accuracy: 0.8788\n",
            "Epoch 68/100\n",
            "157/157 [==============================] - 5s 29ms/step - loss: 0.0586 - accuracy: 0.9269 - val_loss: 0.0852 - val_accuracy: 0.8806\n",
            "Epoch 69/100\n",
            "157/157 [==============================] - 5s 29ms/step - loss: 0.0560 - accuracy: 0.9323 - val_loss: 0.0885 - val_accuracy: 0.8768\n",
            "Epoch 70/100\n",
            "157/157 [==============================] - 5s 29ms/step - loss: 0.0550 - accuracy: 0.9323 - val_loss: 0.0856 - val_accuracy: 0.8806\n",
            "Epoch 71/100\n",
            "157/157 [==============================] - 5s 29ms/step - loss: 0.0537 - accuracy: 0.9348 - val_loss: 0.0839 - val_accuracy: 0.8784\n",
            "Epoch 72/100\n",
            "157/157 [==============================] - 5s 29ms/step - loss: 0.0527 - accuracy: 0.9383 - val_loss: 0.0835 - val_accuracy: 0.8794\n",
            "Epoch 73/100\n",
            "157/157 [==============================] - 5s 29ms/step - loss: 0.0509 - accuracy: 0.9388 - val_loss: 0.0853 - val_accuracy: 0.8770\n",
            "Epoch 74/100\n",
            "157/157 [==============================] - 5s 29ms/step - loss: 0.0490 - accuracy: 0.9419 - val_loss: 0.0898 - val_accuracy: 0.8740\n",
            "Epoch 75/100\n",
            "157/157 [==============================] - 5s 29ms/step - loss: 0.0470 - accuracy: 0.9450 - val_loss: 0.0855 - val_accuracy: 0.8816\n",
            "Epoch 76/100\n",
            "157/157 [==============================] - 5s 29ms/step - loss: 0.0468 - accuracy: 0.9451 - val_loss: 0.0823 - val_accuracy: 0.8824\n",
            "Epoch 77/100\n",
            "157/157 [==============================] - 5s 30ms/step - loss: 0.0450 - accuracy: 0.9485 - val_loss: 0.0829 - val_accuracy: 0.8824\n",
            "Epoch 78/100\n",
            "157/157 [==============================] - 5s 29ms/step - loss: 0.0438 - accuracy: 0.9489 - val_loss: 0.0823 - val_accuracy: 0.8832\n",
            "Epoch 79/100\n",
            "157/157 [==============================] - 5s 29ms/step - loss: 0.0426 - accuracy: 0.9512 - val_loss: 0.0819 - val_accuracy: 0.8838\n",
            "Epoch 80/100\n",
            "157/157 [==============================] - 5s 29ms/step - loss: 0.0418 - accuracy: 0.9522 - val_loss: 0.0844 - val_accuracy: 0.8834\n",
            "Epoch 81/100\n",
            "157/157 [==============================] - 5s 29ms/step - loss: 0.0398 - accuracy: 0.9558 - val_loss: 0.0813 - val_accuracy: 0.8866\n",
            "Epoch 82/100\n",
            "157/157 [==============================] - 5s 29ms/step - loss: 0.0391 - accuracy: 0.9564 - val_loss: 0.0828 - val_accuracy: 0.8832\n",
            "Epoch 83/100\n",
            "157/157 [==============================] - 5s 29ms/step - loss: 0.0382 - accuracy: 0.9562 - val_loss: 0.0813 - val_accuracy: 0.8856\n",
            "Epoch 84/100\n",
            "157/157 [==============================] - 5s 29ms/step - loss: 0.0367 - accuracy: 0.9603 - val_loss: 0.0809 - val_accuracy: 0.8868\n",
            "Epoch 85/100\n",
            "157/157 [==============================] - 5s 29ms/step - loss: 0.0360 - accuracy: 0.9603 - val_loss: 0.0846 - val_accuracy: 0.8790\n",
            "Epoch 86/100\n",
            "157/157 [==============================] - 5s 29ms/step - loss: 0.0345 - accuracy: 0.9620 - val_loss: 0.0818 - val_accuracy: 0.8856\n",
            "Epoch 87/100\n",
            "157/157 [==============================] - 5s 29ms/step - loss: 0.0337 - accuracy: 0.9631 - val_loss: 0.0821 - val_accuracy: 0.8836\n",
            "Epoch 88/100\n",
            "157/157 [==============================] - 5s 29ms/step - loss: 0.0332 - accuracy: 0.9635 - val_loss: 0.0818 - val_accuracy: 0.8834\n",
            "Epoch 89/100\n",
            "157/157 [==============================] - 5s 29ms/step - loss: 0.0318 - accuracy: 0.9660 - val_loss: 0.0813 - val_accuracy: 0.8870\n",
            "Epoch 90/100\n",
            "157/157 [==============================] - 5s 29ms/step - loss: 0.0307 - accuracy: 0.9679 - val_loss: 0.0807 - val_accuracy: 0.8860\n",
            "Epoch 91/100\n",
            "157/157 [==============================] - 5s 29ms/step - loss: 0.0298 - accuracy: 0.9682 - val_loss: 0.0802 - val_accuracy: 0.8866\n",
            "Epoch 92/100\n",
            "157/157 [==============================] - 5s 29ms/step - loss: 0.0286 - accuracy: 0.9704 - val_loss: 0.0806 - val_accuracy: 0.8860\n",
            "Epoch 93/100\n",
            "157/157 [==============================] - 5s 29ms/step - loss: 0.0284 - accuracy: 0.9700 - val_loss: 0.0825 - val_accuracy: 0.8808\n",
            "Epoch 94/100\n",
            "157/157 [==============================] - 5s 29ms/step - loss: 0.0272 - accuracy: 0.9715 - val_loss: 0.0847 - val_accuracy: 0.8812\n",
            "Epoch 95/100\n",
            "157/157 [==============================] - 5s 29ms/step - loss: 0.0267 - accuracy: 0.9719 - val_loss: 0.0813 - val_accuracy: 0.8866\n",
            "Epoch 96/100\n",
            "157/157 [==============================] - 5s 29ms/step - loss: 0.0262 - accuracy: 0.9736 - val_loss: 0.0874 - val_accuracy: 0.8820\n",
            "Epoch 97/100\n",
            "157/157 [==============================] - 5s 29ms/step - loss: 0.0254 - accuracy: 0.9733 - val_loss: 0.0813 - val_accuracy: 0.8862\n",
            "Epoch 98/100\n",
            "157/157 [==============================] - 5s 29ms/step - loss: 0.0248 - accuracy: 0.9753 - val_loss: 0.0824 - val_accuracy: 0.8880\n",
            "Epoch 99/100\n",
            "157/157 [==============================] - 5s 29ms/step - loss: 0.0247 - accuracy: 0.9758 - val_loss: 0.0805 - val_accuracy: 0.8868\n",
            "Epoch 100/100\n",
            "157/157 [==============================] - 5s 29ms/step - loss: 0.0224 - accuracy: 0.9776 - val_loss: 0.0800 - val_accuracy: 0.8884\n"
          ],
          "name": "stdout"
        }
      ]
    },
    {
      "cell_type": "code",
      "metadata": {
        "id": "ZepR-IP3sNzr",
        "colab_type": "code",
        "outputId": "3e61f040-891a-4391-add9-8f301d4dcf2a",
        "colab": {
          "base_uri": "https://localhost:8080/",
          "height": 67
        }
      },
      "source": [
        "#Code to evaluate model,Accuracy is  89% on validation dataset\n",
        "loss, acc = model.evaluate(X_test_NN, y_test_NN)\n",
        "\n",
        "print('Test Loss: {}'.format(loss))\n",
        "print('Test Accuracy: {}'.format(acc))"
      ],
      "execution_count": 32,
      "outputs": [
        {
          "output_type": "stream",
          "text": [
            "157/157 [==============================] - 1s 3ms/step - loss: 0.0813 - accuracy: 0.8884\n",
            "Test Loss: 0.0812828540802002\n",
            "Test Accuracy: 0.8884000182151794\n"
          ],
          "name": "stdout"
        }
      ]
    },
    {
      "cell_type": "code",
      "metadata": {
        "id": "Lcrt1Edz9kSN",
        "colab_type": "code",
        "outputId": "31c0f7b6-9654-423b-9e47-d37e62304a5d",
        "colab": {
          "base_uri": "https://localhost:8080/",
          "height": 34
        }
      },
      "source": [
        "print(history.history.keys())"
      ],
      "execution_count": 33,
      "outputs": [
        {
          "output_type": "stream",
          "text": [
            "dict_keys(['loss', 'accuracy', 'val_loss', 'val_accuracy'])\n"
          ],
          "name": "stdout"
        }
      ]
    },
    {
      "cell_type": "code",
      "metadata": {
        "id": "yrImUnW7vcAM",
        "colab_type": "code",
        "outputId": "c052510a-bc98-436c-b560-bf7040a7f8cd",
        "colab": {
          "base_uri": "https://localhost:8080/",
          "height": 295
        }
      },
      "source": [
        "#Plot for Model Accuracy\n",
        "import keras\n",
        "from matplotlib import pyplot as plt\n",
        "#history = model1.fit(train_x, train_y,validation_split = 0.1, epochs=50, batch_size=4)\n",
        "plt.plot(history.history['accuracy'])\n",
        "plt.plot(history.history['val_accuracy'])\n",
        "plt.title('Model accuracy')\n",
        "plt.ylabel('Accuracy')\n",
        "plt.xlabel('Number of epoch')\n",
        "plt.legend(['Train_score', 'Val_score'], loc='lower right')\n",
        "plt.show()"
      ],
      "execution_count": 41,
      "outputs": [
        {
          "output_type": "display_data",
          "data": {
            "image/png": "[encoded data removed]",
            "text/plain": [
              "<Figure size 432x288 with 1 Axes>"
            ]
          },
          "metadata": {
            "tags": [],
            "needs_background": "light"
          }
        }
      ]
    },
    {
      "cell_type": "code",
      "metadata": {
        "id": "uSVXXQ7d-QSL",
        "colab_type": "code",
        "outputId": "56bfc2d2-1d84-471a-e710-aa3f074ab4de",
        "colab": {
          "base_uri": "https://localhost:8080/",
          "height": 295
        }
      },
      "source": [
        "#Plot for Model Loss\n",
        "import keras\n",
        "from matplotlib import pyplot as plt\n",
        "#history = model1.fit(train_x, train_y,validation_split = 0.1, epochs=50, batch_size=4)\n",
        "plt.plot(history.history['loss'])\n",
        "plt.plot(history.history['val_loss'])\n",
        "plt.title('Model accuracy')\n",
        "plt.ylabel('Accuracy')\n",
        "plt.xlabel('Number of epoch')\n",
        "plt.legend(['Train_score', 'Val_score'], loc='upper right')\n",
        "plt.show()"
      ],
      "execution_count": 35,
      "outputs": [
        {
          "output_type": "display_data",
          "data": {
            "image/png": "[encoded data removed]",
            "text/plain": [
              "<Figure size 432x288 with 1 Axes>"
            ]
          },
          "metadata": {
            "tags": [],
            "needs_background": "light"
          }
        }
      ]
    },
    {
      "cell_type": "code",
      "metadata": {
        "id": "k8xO_8JjMDPA",
        "colab_type": "code",
        "outputId": "a4c36acf-e4b5-428e-fbc6-acebbb295fec",
        "colab": {
          "base_uri": "https://localhost:8080/",
          "height": 313
        }
      },
      "source": [
        "#Cofusion matrix for final model\n",
        "from sklearn.metrics import confusion_matrix\n",
        "import seaborn as sb\n",
        "pred = model.predict_classes(X_test_NN)\n",
        "LABELS = ['Pos_review','Neg_review']\n",
        "\n",
        "cnf_matrix = confusion_matrix(pred, y_test_NN)\n",
        "Hm = sb.heatmap(cnf_matrix, annot = True, fmt=\".0f\",xticklabels = LABELS, yticklabels = LABELS)\n",
        "Hm.set(xlabel='True Value', ylabel='Predicted Value')\n",
        "Hm.set_title('Confusion matrix for model')\n"
      ],
      "execution_count": 38,
      "outputs": [
        {
          "output_type": "execute_result",
          "data": {
            "text/plain": [
              "Text(0.5, 1.0, 'Confusion matrix for model')"
            ]
          },
          "metadata": {
            "tags": []
          },
          "execution_count": 38
        },
        {
          "output_type": "display_data",
          "data": {
            "image/png": "[encoded data removed]",
            "text/plain": [
              "<Figure size 432x288 with 2 Axes>"
            ]
          },
          "metadata": {
            "tags": [],
            "needs_background": "light"
          }
        }
      ]
    },
    {
      "cell_type": "code",
      "metadata": {
        "id": "T1L50F9QUihZ",
        "colab_type": "code",
        "outputId": "5b1b185a-3558-47eb-d2f2-fb81697d93c4",
        "colab": {
          "base_uri": "https://localhost:8080/",
          "height": 346
        }
      },
      "source": [
        "import matplotlib.pyplot as plt\n",
        "import matplotlib.patches as mpatches\n",
        "x = range(100)\n",
        "plt.plot(x,cv_scores)\n",
        "plt.plot(x,history.history['val_accuracy'])\n",
        "plt.xlabel('Range of 100-fold values')\n",
        "plt.ylabel('Accuracy score of 100-fold models')\n",
        "plt.legend(['Logistic_accuracy', 'CNN_accuracy'])\n",
        "plt.title('Comparison of Logistic Regression and CNN')"
      ],
      "execution_count": 43,
      "outputs": [
        {
          "output_type": "stream",
          "text": [
            "cv_scores mean for LR:0.8868\n",
            "cv_scores mean for CNN:0.7892840003967285\n"
          ],
          "name": "stdout"
        },
        {
          "output_type": "execute_result",
          "data": {
            "text/plain": [
              "Text(0.5, 1.0, 'Comparison of Logistic Regression and CNN')"
            ]
          },
          "metadata": {
            "tags": []
          },
          "execution_count": 43
        },
        {
          "output_type": "display_data",
          "data": {
            "image/png": "[encoded data removed]",
            "text/plain": [
              "<Figure size 432x288 with 1 Axes>"
            ]
          },
          "metadata": {
            "tags": [],
            "needs_background": "light"
          }
        }
      ]
    }
  ]
}